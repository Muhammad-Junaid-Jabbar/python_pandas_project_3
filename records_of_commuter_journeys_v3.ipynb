{
 "cells": [
  {
   "cell_type": "markdown",
   "id": "654aefbb",
   "metadata": {},
   "source": [
    "# Records of Commuter Journeys"
   ]
  },
  {
   "cell_type": "markdown",
   "id": "11632550",
   "metadata": {},
   "source": [
    "## (a) In the dataset, ‘-’, ‘--’, and ‘?’ are considered as missing values, and the variable columns of the dataset are noted as in the data dictionary in order. As part of data preparation, read the dataset in as a Pandas dataframe, with the above considerations. "
   ]
  },
  {
   "cell_type": "code",
   "execution_count": 45,
   "id": "bbfac7e5",
   "metadata": {},
   "outputs": [],
   "source": [
    "import pandas as pd"
   ]
  },
  {
   "cell_type": "code",
   "execution_count": 46,
   "id": "214d22c1",
   "metadata": {},
   "outputs": [],
   "source": [
    "df = pd.read_csv('GBA_data.csv',low_memory=False)"
   ]
  },
  {
   "cell_type": "code",
   "execution_count": 47,
   "id": "011faba0",
   "metadata": {},
   "outputs": [
    {
     "data": {
      "text/plain": [
       "origin         504\n",
       "destination    504\n",
       "start            0\n",
       "end              0\n",
       "id               0\n",
       "type             0\n",
       "subscriber       0\n",
       "yob              0\n",
       "age              0\n",
       "gender           0\n",
       "dtype: int64"
      ]
     },
     "execution_count": 47,
     "metadata": {},
     "output_type": "execute_result"
    }
   ],
   "source": [
    "df.head()\n",
    "df.isnull().sum()\n"
   ]
  },
  {
   "cell_type": "code",
   "execution_count": 27,
   "id": "3574c1fe",
   "metadata": {},
   "outputs": [
    {
     "data": {
      "text/html": [
       "<div>\n",
       "<style scoped>\n",
       "    .dataframe tbody tr th:only-of-type {\n",
       "        vertical-align: middle;\n",
       "    }\n",
       "\n",
       "    .dataframe tbody tr th {\n",
       "        vertical-align: top;\n",
       "    }\n",
       "\n",
       "    .dataframe thead th {\n",
       "        text-align: right;\n",
       "    }\n",
       "</style>\n",
       "<table border=\"1\" class=\"dataframe\">\n",
       "  <thead>\n",
       "    <tr style=\"text-align: right;\">\n",
       "      <th></th>\n",
       "      <th>origin</th>\n",
       "      <th>destination</th>\n",
       "      <th>id</th>\n",
       "    </tr>\n",
       "  </thead>\n",
       "  <tbody>\n",
       "    <tr>\n",
       "      <th>count</th>\n",
       "      <td>669505.000000</td>\n",
       "      <td>669505.000000</td>\n",
       "      <td>670009.000000</td>\n",
       "    </tr>\n",
       "    <tr>\n",
       "      <th>mean</th>\n",
       "      <td>113.350947</td>\n",
       "      <td>111.389453</td>\n",
       "      <td>2174.952754</td>\n",
       "    </tr>\n",
       "    <tr>\n",
       "      <th>std</th>\n",
       "      <td>94.125066</td>\n",
       "      <td>93.750900</td>\n",
       "      <td>1183.285391</td>\n",
       "    </tr>\n",
       "    <tr>\n",
       "      <th>min</th>\n",
       "      <td>3.000000</td>\n",
       "      <td>3.000000</td>\n",
       "      <td>11.000000</td>\n",
       "    </tr>\n",
       "    <tr>\n",
       "      <th>25%</th>\n",
       "      <td>31.000000</td>\n",
       "      <td>30.000000</td>\n",
       "      <td>1177.000000</td>\n",
       "    </tr>\n",
       "    <tr>\n",
       "      <th>50%</th>\n",
       "      <td>84.000000</td>\n",
       "      <td>81.000000</td>\n",
       "      <td>2265.000000</td>\n",
       "    </tr>\n",
       "    <tr>\n",
       "      <th>75%</th>\n",
       "      <td>178.000000</td>\n",
       "      <td>178.000000</td>\n",
       "      <td>3188.000000</td>\n",
       "    </tr>\n",
       "    <tr>\n",
       "      <th>max</th>\n",
       "      <td>356.000000</td>\n",
       "      <td>356.000000</td>\n",
       "      <td>4307.000000</td>\n",
       "    </tr>\n",
       "  </tbody>\n",
       "</table>\n",
       "</div>"
      ],
      "text/plain": [
       "              origin    destination             id\n",
       "count  669505.000000  669505.000000  670009.000000\n",
       "mean      113.350947     111.389453    2174.952754\n",
       "std        94.125066      93.750900    1183.285391\n",
       "min         3.000000       3.000000      11.000000\n",
       "25%        31.000000      30.000000    1177.000000\n",
       "50%        84.000000      81.000000    2265.000000\n",
       "75%       178.000000     178.000000    3188.000000\n",
       "max       356.000000     356.000000    4307.000000"
      ]
     },
     "execution_count": 27,
     "metadata": {},
     "output_type": "execute_result"
    }
   ],
   "source": [
    "df.describe()"
   ]
  },
  {
   "cell_type": "code",
   "execution_count": 28,
   "id": "c7b08dfc",
   "metadata": {},
   "outputs": [
    {
     "name": "stdout",
     "output_type": "stream",
     "text": [
      "<class 'pandas.core.frame.DataFrame'>\n",
      "RangeIndex: 670009 entries, 0 to 670008\n",
      "Data columns (total 10 columns):\n",
      " #   Column       Non-Null Count   Dtype  \n",
      "---  ------       --------------   -----  \n",
      " 0   origin       669505 non-null  float64\n",
      " 1   destination  669505 non-null  float64\n",
      " 2   start        670009 non-null  object \n",
      " 3   end          670009 non-null  object \n",
      " 4   id           670009 non-null  int64  \n",
      " 5   type         670009 non-null  object \n",
      " 6   subscriber   670009 non-null  object \n",
      " 7   yob          670009 non-null  object \n",
      " 8   age          670009 non-null  object \n",
      " 9   gender       670009 non-null  object \n",
      "dtypes: float64(2), int64(1), object(7)\n",
      "memory usage: 51.1+ MB\n",
      "None\n"
     ]
    },
    {
     "data": {
      "text/plain": [
       "(670009, 10)"
      ]
     },
     "execution_count": 28,
     "metadata": {},
     "output_type": "execute_result"
    }
   ],
   "source": [
    "print(df.info())\n",
    "df.shape\n"
   ]
  },
  {
   "cell_type": "markdown",
   "id": "c18bd547",
   "metadata": {},
   "source": [
    "## (b) Identify the variable columns which have missing values. As part of data preparation, implement ways to treat them, and explain your rationale. State any interesting observation(s). "
   ]
  },
  {
   "cell_type": "code",
   "execution_count": 29,
   "id": "ce9e0905",
   "metadata": {},
   "outputs": [],
   "source": [
    "df['origin'] = df['origin'].astype('object')\n",
    "df['destination'] = df['destination'].astype('object')\n",
    "df['id'] = df['id'].astype('object')"
   ]
  },
  {
   "cell_type": "code",
   "execution_count": 30,
   "id": "605f3fcd",
   "metadata": {},
   "outputs": [
    {
     "name": "stdout",
     "output_type": "stream",
     "text": [
      "<class 'pandas.core.frame.DataFrame'>\n",
      "RangeIndex: 670009 entries, 0 to 670008\n",
      "Data columns (total 10 columns):\n",
      " #   Column       Non-Null Count   Dtype \n",
      "---  ------       --------------   ----- \n",
      " 0   origin       669505 non-null  object\n",
      " 1   destination  669505 non-null  object\n",
      " 2   start        670009 non-null  object\n",
      " 3   end          670009 non-null  object\n",
      " 4   id           670009 non-null  object\n",
      " 5   type         670009 non-null  object\n",
      " 6   subscriber   670009 non-null  object\n",
      " 7   yob          670009 non-null  object\n",
      " 8   age          670009 non-null  object\n",
      " 9   gender       670009 non-null  object\n",
      "dtypes: object(10)\n",
      "memory usage: 51.1+ MB\n"
     ]
    }
   ],
   "source": [
    "df.info()"
   ]
  },
  {
   "cell_type": "code",
   "execution_count": 31,
   "id": "8fe76516",
   "metadata": {},
   "outputs": [
    {
     "name": "stdout",
     "output_type": "stream",
     "text": [
      "type ?\n",
      "yob --\n",
      "age --\n",
      "gender -\n"
     ]
    },
    {
     "data": {
      "text/plain": [
       "['type', 'yob', 'age', 'gender']"
      ]
     },
     "execution_count": 31,
     "metadata": {},
     "output_type": "execute_result"
    }
   ],
   "source": [
    "#get the details of missing values containing columns\n",
    "columns_of_dataset = df.columns.values.tolist()\n",
    "missing_values_column = []\n",
    "for i in columns_of_dataset:\n",
    "    for cell in df[str(i)]:\n",
    "        if ((cell == '-') or (cell == '--') or (cell == '?')):\n",
    "            print(i,cell)\n",
    "            missing_values_column.append(i)\n",
    "            break\n",
    "missing_values_column"
   ]
  },
  {
   "cell_type": "code",
   "execution_count": 32,
   "id": "a897ecee",
   "metadata": {},
   "outputs": [],
   "source": [
    "#now clean the data, remove the lines which have the missing values\n",
    "df = df[df.yob != '--']\n",
    "# df = df[df.type != '?']\n",
    "df = df[df.gender != '-']"
   ]
  },
  {
   "cell_type": "code",
   "execution_count": 33,
   "id": "f6f09e09",
   "metadata": {},
   "outputs": [
    {
     "name": "stdout",
     "output_type": "stream",
     "text": [
      "type ?\n"
     ]
    },
    {
     "data": {
      "text/plain": [
       "['type']"
      ]
     },
     "execution_count": 33,
     "metadata": {},
     "output_type": "execute_result"
    }
   ],
   "source": [
    "# interesting observation(s).\n",
    "#now there is no known missing values present in dataset\n",
    "#get the details of missing values containing columns, if any after removing the missing values row\n",
    "columns_of_dataset = df.columns.values.tolist()\n",
    "missing_values_column = []\n",
    "for i in columns_of_dataset:\n",
    "    for cell in df[str(i)]:\n",
    "        if ((cell == '-') or (cell == '--') or (cell == '?')):\n",
    "            print(i,cell)\n",
    "            missing_values_column.append(i)\n",
    "            break\n",
    "missing_values_column"
   ]
  },
  {
   "cell_type": "markdown",
   "id": "7b9b2940",
   "metadata": {},
   "source": [
    "## (c) As part of data preparation, identify three (3) other data quality issues in the data. Similarly, suggest and implement ways to treat them, and explain your rationale. \n"
   ]
  },
  {
   "cell_type": "code",
   "execution_count": 34,
   "id": "f08a3043",
   "metadata": {},
   "outputs": [
    {
     "data": {
      "text/plain": [
       "origin         504\n",
       "destination    504\n",
       "start            0\n",
       "end              0\n",
       "id               0\n",
       "type             0\n",
       "subscriber       0\n",
       "yob              0\n",
       "age              0\n",
       "gender           0\n",
       "dtype: int64"
      ]
     },
     "execution_count": 34,
     "metadata": {},
     "output_type": "execute_result"
    }
   ],
   "source": [
    "#first data quality issue \n",
    "#as we clean the data based on missing value, but the cleaning process is not done yet\n",
    "#following command will show the null value containing in the column\n",
    "df.isnull().sum()"
   ]
  },
  {
   "cell_type": "code",
   "execution_count": 35,
   "id": "5a78d08f",
   "metadata": {},
   "outputs": [
    {
     "data": {
      "text/plain": [
       "origin         0\n",
       "destination    0\n",
       "start          0\n",
       "end            0\n",
       "id             0\n",
       "type           0\n",
       "subscriber     0\n",
       "yob            0\n",
       "age            0\n",
       "gender         0\n",
       "dtype: int64"
      ]
     },
     "execution_count": 35,
     "metadata": {},
     "output_type": "execute_result"
    }
   ],
   "source": [
    "# solution for first quality issue \n",
    "# based on above information now we have to remove the null value rows because the dataset to ensure the quality of dataset\n",
    "df = df[df.origin.notnull()]\n",
    "df = df[df.destination.notnull()]\n",
    "# now runing the below command while ensure that no null value is present now in dataset, \n",
    "# dataset is fully qualified based on no null values\n",
    "\n",
    "df.isnull().sum()"
   ]
  },
  {
   "cell_type": "code",
   "execution_count": 36,
   "id": "2cd3f8ab",
   "metadata": {},
   "outputs": [
    {
     "name": "stdout",
     "output_type": "stream",
     "text": [
      "<class 'pandas.core.frame.DataFrame'>\n",
      "Int64Index: 669492 entries, 0 to 670007\n",
      "Data columns (total 10 columns):\n",
      " #   Column       Non-Null Count   Dtype \n",
      "---  ------       --------------   ----- \n",
      " 0   origin       669492 non-null  object\n",
      " 1   destination  669492 non-null  object\n",
      " 2   start        669492 non-null  object\n",
      " 3   end          669492 non-null  object\n",
      " 4   id           669492 non-null  object\n",
      " 5   type         669492 non-null  object\n",
      " 6   subscriber   669492 non-null  object\n",
      " 7   yob          669492 non-null  object\n",
      " 8   age          669492 non-null  object\n",
      " 9   gender       669492 non-null  object\n",
      "dtypes: object(10)\n",
      "memory usage: 56.2+ MB\n"
     ]
    }
   ],
   "source": [
    "#second data quality issue\n",
    "#column are not charaterized on the based of data type(it should be use for data visualization later)\n",
    "df.info()\n"
   ]
  },
  {
   "cell_type": "code",
   "execution_count": 37,
   "id": "e861ba4c",
   "metadata": {},
   "outputs": [
    {
     "name": "stdout",
     "output_type": "stream",
     "text": [
      "<class 'pandas.core.frame.DataFrame'>\n",
      "Int64Index: 669492 entries, 0 to 670007\n",
      "Data columns (total 10 columns):\n",
      " #   Column       Non-Null Count   Dtype \n",
      "---  ------       --------------   ----- \n",
      " 0   origin       669492 non-null  int64 \n",
      " 1   destination  669492 non-null  int64 \n",
      " 2   start        669492 non-null  object\n",
      " 3   end          669492 non-null  object\n",
      " 4   id           669492 non-null  int64 \n",
      " 5   type         669492 non-null  object\n",
      " 6   subscriber   669492 non-null  object\n",
      " 7   yob          669492 non-null  int64 \n",
      " 8   age          669492 non-null  int64 \n",
      " 9   gender       669492 non-null  object\n",
      "dtypes: int64(5), object(5)\n",
      "memory usage: 56.2+ MB\n"
     ]
    }
   ],
   "source": [
    "#solution for second data quality issue\n",
    "#changing the datatype based on column properties\n",
    "\n",
    "df['origin'] = df['origin'].astype('int64')\n",
    "df['destination'] = df['destination'].astype('int64')\n",
    "df['start'] = df['start'].astype('object')\n",
    "df['end'] = df['end'].astype('object')\n",
    "df['id'] = df['id'].astype('int64')\n",
    "df['type'] = df['type'].astype('object')\n",
    "df['subscriber'] = df['subscriber'].astype('object')\n",
    "df['yob'] = df['yob'].astype('int64')\n",
    "df['age'] = df['age'].astype('int64')\n",
    "df['gender'] = df['gender'].astype('object')\n",
    "df.info()"
   ]
  },
  {
   "cell_type": "code",
   "execution_count": 38,
   "id": "f0a29c15",
   "metadata": {},
   "outputs": [
    {
     "name": "stdout",
     "output_type": "stream",
     "text": [
      "total number of orgin and destinaion are equal in 14686 enteries\n"
     ]
    }
   ],
   "source": [
    "# third data quality issue\n",
    "#origin should not equal to destination and start time should not equal to end.\n",
    "res = []\n",
    "for i, j in zip(df['origin'], df['destination']):\n",
    "    if i == j:\n",
    "        res.append(i)\n",
    "\n",
    "#these are not good data so we should remove it, because it is faulty data\n",
    "print(\"total number of orgin and destinaion are equal in\",len(res),\"enteries\")\n"
   ]
  },
  {
   "cell_type": "code",
   "execution_count": 39,
   "id": "ba6fdc8f",
   "metadata": {},
   "outputs": [
    {
     "name": "stdout",
     "output_type": "stream",
     "text": [
      "total number of orgin and destinaion are equal in 0 enteries\n"
     ]
    }
   ],
   "source": [
    "#solution for third dta quality issue\n",
    "#origin should not equal to destination and same like start time should not be equal to end time\n",
    "df = df[df.destination != df.origin]\n",
    "df = df[df.start != df.end]\n",
    "\n",
    "res = []\n",
    "for i, j in zip(df['origin'], df['destination']):\n",
    "    if i == j:\n",
    "        res.append(i)\n",
    "\n",
    "#these are not good data so we should remove it, because it is faulty data\n",
    "print(\"total number of orgin and destinaion are equal in\",len(res),\"enteries\")"
   ]
  },
  {
   "cell_type": "code",
   "execution_count": 40,
   "id": "ee024190",
   "metadata": {},
   "outputs": [
    {
     "data": {
      "text/html": [
       "<div>\n",
       "<style scoped>\n",
       "    .dataframe tbody tr th:only-of-type {\n",
       "        vertical-align: middle;\n",
       "    }\n",
       "\n",
       "    .dataframe tbody tr th {\n",
       "        vertical-align: top;\n",
       "    }\n",
       "\n",
       "    .dataframe thead th {\n",
       "        text-align: right;\n",
       "    }\n",
       "</style>\n",
       "<table border=\"1\" class=\"dataframe\">\n",
       "  <thead>\n",
       "    <tr style=\"text-align: right;\">\n",
       "      <th></th>\n",
       "      <th>origin</th>\n",
       "      <th>destination</th>\n",
       "      <th>id</th>\n",
       "      <th>yob</th>\n",
       "      <th>age</th>\n",
       "    </tr>\n",
       "  </thead>\n",
       "  <tbody>\n",
       "    <tr>\n",
       "      <th>count</th>\n",
       "      <td>654806.000000</td>\n",
       "      <td>654806.000000</td>\n",
       "      <td>654806.000000</td>\n",
       "      <td>654806.000000</td>\n",
       "      <td>654806.000000</td>\n",
       "    </tr>\n",
       "    <tr>\n",
       "      <th>mean</th>\n",
       "      <td>112.895641</td>\n",
       "      <td>110.890502</td>\n",
       "      <td>2171.684216</td>\n",
       "      <td>1982.265573</td>\n",
       "      <td>37.734427</td>\n",
       "    </tr>\n",
       "    <tr>\n",
       "      <th>std</th>\n",
       "      <td>93.901298</td>\n",
       "      <td>93.507778</td>\n",
       "      <td>1181.318469</td>\n",
       "      <td>9.843260</td>\n",
       "      <td>9.843260</td>\n",
       "    </tr>\n",
       "    <tr>\n",
       "      <th>min</th>\n",
       "      <td>3.000000</td>\n",
       "      <td>3.000000</td>\n",
       "      <td>11.000000</td>\n",
       "      <td>1949.000000</td>\n",
       "      <td>20.000000</td>\n",
       "    </tr>\n",
       "    <tr>\n",
       "      <th>25%</th>\n",
       "      <td>30.000000</td>\n",
       "      <td>30.000000</td>\n",
       "      <td>1176.000000</td>\n",
       "      <td>1977.000000</td>\n",
       "      <td>31.000000</td>\n",
       "    </tr>\n",
       "    <tr>\n",
       "      <th>50%</th>\n",
       "      <td>84.000000</td>\n",
       "      <td>81.000000</td>\n",
       "      <td>2262.000000</td>\n",
       "      <td>1984.000000</td>\n",
       "      <td>36.000000</td>\n",
       "    </tr>\n",
       "    <tr>\n",
       "      <th>75%</th>\n",
       "      <td>178.000000</td>\n",
       "      <td>176.000000</td>\n",
       "      <td>3182.000000</td>\n",
       "      <td>1989.000000</td>\n",
       "      <td>43.000000</td>\n",
       "    </tr>\n",
       "    <tr>\n",
       "      <th>max</th>\n",
       "      <td>356.000000</td>\n",
       "      <td>356.000000</td>\n",
       "      <td>4307.000000</td>\n",
       "      <td>2000.000000</td>\n",
       "      <td>71.000000</td>\n",
       "    </tr>\n",
       "  </tbody>\n",
       "</table>\n",
       "</div>"
      ],
      "text/plain": [
       "              origin    destination             id            yob  \\\n",
       "count  654806.000000  654806.000000  654806.000000  654806.000000   \n",
       "mean      112.895641     110.890502    2171.684216    1982.265573   \n",
       "std        93.901298      93.507778    1181.318469       9.843260   \n",
       "min         3.000000       3.000000      11.000000    1949.000000   \n",
       "25%        30.000000      30.000000    1176.000000    1977.000000   \n",
       "50%        84.000000      81.000000    2262.000000    1984.000000   \n",
       "75%       178.000000     176.000000    3182.000000    1989.000000   \n",
       "max       356.000000     356.000000    4307.000000    2000.000000   \n",
       "\n",
       "                 age  \n",
       "count  654806.000000  \n",
       "mean       37.734427  \n",
       "std         9.843260  \n",
       "min        20.000000  \n",
       "25%        31.000000  \n",
       "50%        36.000000  \n",
       "75%        43.000000  \n",
       "max        71.000000  "
      ]
     },
     "execution_count": 40,
     "metadata": {},
     "output_type": "execute_result"
    }
   ],
   "source": [
    "#rationale\n",
    "df.describe()"
   ]
  },
  {
   "cell_type": "markdown",
   "id": "92d09f10",
   "metadata": {},
   "source": [
    "##  (d) Develop a user-defined function that will print the hour, expressed in the 12-hour clock format (e.g., 12am, 1pm), whereby the highest number of commuters start their journey. \n"
   ]
  },
  {
   "cell_type": "code",
   "execution_count": 41,
   "id": "83192a33",
   "metadata": {},
   "outputs": [],
   "source": [
    "from datetime import datetime\n",
    "# user-defined function\n",
    "def convert_time1(x):\n",
    "    return datetime.strptime(x, \"%Y-%m-%d %H:%M:%S.%f\").strftime(\"%I %p\")\n"
   ]
  },
  {
   "cell_type": "code",
   "execution_count": 42,
   "id": "ff475d9d",
   "metadata": {},
   "outputs": [
    {
     "data": {
      "text/plain": [
       "{'12 AM': 3170,\n",
       " '01 AM': 1511,\n",
       " '02 AM': 961,\n",
       " '03 AM': 625,\n",
       " '05 AM': 3093,\n",
       " '06 AM': 12364,\n",
       " '07 AM': 37940,\n",
       " '08 AM': 78063,\n",
       " '09 AM': 59656,\n",
       " '10 AM': 29366,\n",
       " '11 AM': 26333,\n",
       " '12 PM': 30095,\n",
       " '01 PM': 28766,\n",
       " '02 PM': 26843,\n",
       " '03 PM': 32177,\n",
       " '04 PM': 50182,\n",
       " '05 PM': 81126,\n",
       " '06 PM': 61385,\n",
       " '07 PM': 36205,\n",
       " '08 PM': 22474,\n",
       " '09 PM': 15676,\n",
       " '10 PM': 10069,\n",
       " '11 PM': 5906,\n",
       " '04 AM': 820}"
      ]
     },
     "execution_count": 42,
     "metadata": {},
     "output_type": "execute_result"
    }
   ],
   "source": [
    "modDfObj = df['start'].apply(convert_time1)\n",
    "data_commuter = {}\n",
    "for i in modDfObj:\n",
    "    data_commuter[str(i)] = 0\n",
    "for i in modDfObj:\n",
    "    data_commuter[str(i)] = data_commuter[str(i)] + 1\n",
    "data_commuter"
   ]
  },
  {
   "cell_type": "code",
   "execution_count": 43,
   "id": "80f1b34f",
   "metadata": {},
   "outputs": [
    {
     "name": "stdout",
     "output_type": "stream",
     "text": [
      "highest number of commuters start their journey at 5 PM  \n"
     ]
    }
   ],
   "source": [
    "#get the heighest number of commuters start their journey\n",
    "prev__ = 0\n",
    "next__ = 0\n",
    "for k, v in data_commuter.items():\n",
    "    perv__ = v\n",
    "    if perv__ > next__:\n",
    "        next__ = perv__\n",
    "        key_ = k\n",
    "key_ = key_.replace(\"0\",\"\")\n",
    "print(f\"highest number of commuters start their journey at {key_}  \")"
   ]
  },
  {
   "cell_type": "markdown",
   "id": "8059e241",
   "metadata": {},
   "source": [
    "## (e) Write a Python code to create appropriate visualisations of the commuter data. Analyse the results and then discuss three (3) interesting insights. "
   ]
  },
  {
   "cell_type": "code",
   "execution_count": 44,
   "id": "0f2a22fe",
   "metadata": {},
   "outputs": [
    {
     "data": {
      "image/png": "[encoded data removed]",
      "text/plain": [
       "<Figure size 432x288 with 1 Axes>"
      ]
     },
     "metadata": {
      "needs_background": "light"
     },
     "output_type": "display_data"
    }
   ],
   "source": [
    "#chart 1 Customer profile type  vs Number of Commuters\n",
    "import matplotlib.pyplot as plt\n",
    "type_data = {}\n",
    "for i  in df['type']:\n",
    "    type_data[str(i)] = 0\n",
    "    \n",
    "for i  in df['type']:\n",
    "    type_data[str(i)] = type_data[str(i)] + 1\n",
    "\n",
    "type_data\n",
    "plt.title('Customer profile type ')\n",
    "plt.xlabel('Type')\n",
    "plt.ylabel('Number of Commuters')\n",
    "type_data_names = list(type_data.keys())\n",
    "type_data_values = list(type_data.values())\n",
    "plt.bar(range(len(type_data)), type_data_values, tick_label=type_data_names)\n",
    "plt.show()"
   ]
  },
  {
   "cell_type": "code",
   "execution_count": 22,
   "id": "98e45650",
   "metadata": {},
   "outputs": [
    {
     "data": {
      "image/png": "[encoded data removed]",
      "text/plain": [
       "<Figure size 432x288 with 1 Axes>"
      ]
     },
     "metadata": {
      "needs_background": "light"
     },
     "output_type": "display_data"
    }
   ],
   "source": [
    "#chart 2 Customer Gender  vs Number of Commuters\n",
    "type_data = {}\n",
    "for i  in df['gender']:\n",
    "    type_data[str(i)] = 0\n",
    "    \n",
    "for i  in df['gender']:\n",
    "    type_data[str(i)] = type_data[str(i)] + 1\n",
    "\n",
    "type_data\n",
    "type_data_names = list(type_data.keys())\n",
    "type_data_values = list(type_data.values())\n",
    "plt.title('Customer Gender')\n",
    "plt.xlabel('Gender')\n",
    "plt.ylabel('Number of Commuters')\n",
    "plt.bar(range(len(type_data)), type_data_values, tick_label=type_data_names)\n",
    "plt.show()"
   ]
  },
  {
   "cell_type": "code",
   "execution_count": 23,
   "id": "464706ee",
   "metadata": {},
   "outputs": [
    {
     "data": {
      "image/png": "[encoded data removed]",
      "text/plain": [
       "<Figure size 432x288 with 1 Axes>"
      ]
     },
     "metadata": {
      "needs_background": "light"
     },
     "output_type": "display_data"
    }
   ],
   "source": [
    "#chart 3 Customer year of birth  vs Number of Commuters\n",
    "type_data = {'1949-1959':0,'1959-1969':0,'1969-1979':0,'1979-1989':0,'1989-1999':0,'1999-2009':0}\n",
    "for i  in df['yob']:\n",
    "    if i < 1959:\n",
    "        type_data[str('1949-1959')] = type_data[str('1949-1959')] + 1\n",
    "    elif ((i >=1959) and (i<1969)):\n",
    "        type_data[str('1959-1969')] = type_data[str('1959-1969')] + 1\n",
    "    elif ((i >=1969) and (i<1979)):\n",
    "        type_data[str('1969-1979')] = type_data[str('1969-1979')] + 1\n",
    "    elif ((i >=1979) and (i<1989)):\n",
    "        type_data[str('1979-1989')] = type_data[str('1979-1989')] + 1\n",
    "    elif ((i >=1989) and (i<1999)):\n",
    "        type_data[str('1989-1999')] = type_data[str('1989-1999')] + 1\n",
    "    elif ((i >=1999) and (i<2009)):\n",
    "        type_data[str('1999-2009')] = type_data[str('1999-2009')] + 1\n",
    "\n",
    "type_data\n",
    "type_data_names = list(type_data.keys())\n",
    "type_data_values = list(type_data.values())\n",
    "plt.title('Customer year of birth ')\n",
    "plt.xlabel('Years')\n",
    "plt.ylabel('Number of Commuters')\n",
    "plt.bar(range(len(type_data)), type_data_values, tick_label=type_data_names)\n",
    "plt.show()\n",
    "          "
   ]
  },
  {
   "cell_type": "code",
   "execution_count": 1,
   "id": "275cdee6",
   "metadata": {},
   "outputs": [],
   "source": [
    "#..."
   ]
  },
  {
   "cell_type": "code",
   "execution_count": null,
   "id": "bc151b25",
   "metadata": {},
   "outputs": [],
   "source": []
  }
 ],
 "metadata": {
  "kernelspec": {
   "display_name": "Python 3 (ipykernel)",
   "language": "python",
   "name": "python3"
  },
  "language_info": {
   "codemirror_mode": {
    "name": "ipython",
    "version": 3
   },
   "file_extension": ".py",
   "mimetype": "text/x-python",
   "name": "python",
   "nbconvert_exporter": "python",
   "pygments_lexer": "ipython3",
   "version": "3.10.6"
  }
 },
 "nbformat": 4,
 "nbformat_minor": 5
}
