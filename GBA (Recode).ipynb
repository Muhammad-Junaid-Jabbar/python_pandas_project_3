{
 "cells": [
  {
   "cell_type": "markdown",
   "id": "198c4255",
   "metadata": {},
   "source": [
    "### Q1(a)\n",
    "In the dataset, ‘-’, ‘--’, and ‘?’ are considered as missing values, and the variable columns of the dataset are noted as in the data dictionary in order. As part of data preparation, read the dataset in as a Pandas dataframe, with the above considerations."
   ]
  },
  {
   "cell_type": "code",
   "execution_count": 1,
   "id": "39a832b0",
   "metadata": {},
   "outputs": [],
   "source": [
    "import pandas as pd\n",
    "\n",
    "missval = ['-', '--', '?']\n",
    "df = pd.read_csv('GBA_data.csv', na_values = missval, low_memory = False)"
   ]
  },
  {
   "cell_type": "code",
   "execution_count": 2,
   "id": "c369683c",
   "metadata": {},
   "outputs": [
    {
     "data": {
      "text/html": [
       "<div>\n",
       "<style scoped>\n",
       "    .dataframe tbody tr th:only-of-type {\n",
       "        vertical-align: middle;\n",
       "    }\n",
       "\n",
       "    .dataframe tbody tr th {\n",
       "        vertical-align: top;\n",
       "    }\n",
       "\n",
       "    .dataframe thead th {\n",
       "        text-align: right;\n",
       "    }\n",
       "</style>\n",
       "<table border=\"1\" class=\"dataframe\">\n",
       "  <thead>\n",
       "    <tr style=\"text-align: right;\">\n",
       "      <th></th>\n",
       "      <th>origin</th>\n",
       "      <th>destination</th>\n",
       "      <th>start</th>\n",
       "      <th>end</th>\n",
       "      <th>id</th>\n",
       "      <th>type</th>\n",
       "      <th>subscriber</th>\n",
       "      <th>yob</th>\n",
       "      <th>age</th>\n",
       "      <th>gender</th>\n",
       "    </tr>\n",
       "  </thead>\n",
       "  <tbody>\n",
       "    <tr>\n",
       "      <th>0</th>\n",
       "      <td>316.0</td>\n",
       "      <td>311.0</td>\n",
       "      <td>2022-01-01 00:07:41.040</td>\n",
       "      <td>2022-01-01 00:10:06.241</td>\n",
       "      <td>2473</td>\n",
       "      <td>Concession</td>\n",
       "      <td>No</td>\n",
       "      <td>1957.0</td>\n",
       "      <td>63.0</td>\n",
       "      <td>Male</td>\n",
       "    </tr>\n",
       "    <tr>\n",
       "      <th>1</th>\n",
       "      <td>74.0</td>\n",
       "      <td>70.0</td>\n",
       "      <td>2022-01-01 00:07:52.943</td>\n",
       "      <td>2022-01-01 00:19:47.075</td>\n",
       "      <td>2423</td>\n",
       "      <td>Regular</td>\n",
       "      <td>No</td>\n",
       "      <td>1986.0</td>\n",
       "      <td>34.0</td>\n",
       "      <td>Male</td>\n",
       "    </tr>\n",
       "    <tr>\n",
       "      <th>2</th>\n",
       "      <td>97.0</td>\n",
       "      <td>125.0</td>\n",
       "      <td>2022-01-01 00:09:31.745</td>\n",
       "      <td>2022-01-01 00:28:43.159</td>\n",
       "      <td>3455</td>\n",
       "      <td>Regular</td>\n",
       "      <td>No</td>\n",
       "      <td>1992.0</td>\n",
       "      <td>28.0</td>\n",
       "      <td>Male</td>\n",
       "    </tr>\n",
       "    <tr>\n",
       "      <th>3</th>\n",
       "      <td>11.0</td>\n",
       "      <td>323.0</td>\n",
       "      <td>2022-01-01 00:14:37.187</td>\n",
       "      <td>2022-01-01 00:37:16.445</td>\n",
       "      <td>2173</td>\n",
       "      <td>Ad-Hoc</td>\n",
       "      <td>No</td>\n",
       "      <td>1995.0</td>\n",
       "      <td>25.0</td>\n",
       "      <td>Male</td>\n",
       "    </tr>\n",
       "    <tr>\n",
       "      <th>4</th>\n",
       "      <td>17.0</td>\n",
       "      <td>8.0</td>\n",
       "      <td>2022-01-01 00:15:33.369</td>\n",
       "      <td>2022-01-01 00:58:56.522</td>\n",
       "      <td>1788</td>\n",
       "      <td>Regular</td>\n",
       "      <td>Yes</td>\n",
       "      <td>1994.0</td>\n",
       "      <td>26.0</td>\n",
       "      <td>Male</td>\n",
       "    </tr>\n",
       "  </tbody>\n",
       "</table>\n",
       "</div>"
      ],
      "text/plain": [
       "   origin  destination                    start                      end  \\\n",
       "0   316.0        311.0  2022-01-01 00:07:41.040  2022-01-01 00:10:06.241   \n",
       "1    74.0         70.0  2022-01-01 00:07:52.943  2022-01-01 00:19:47.075   \n",
       "2    97.0        125.0  2022-01-01 00:09:31.745  2022-01-01 00:28:43.159   \n",
       "3    11.0        323.0  2022-01-01 00:14:37.187  2022-01-01 00:37:16.445   \n",
       "4    17.0          8.0  2022-01-01 00:15:33.369  2022-01-01 00:58:56.522   \n",
       "\n",
       "     id        type subscriber     yob   age gender  \n",
       "0  2473  Concession         No  1957.0  63.0   Male  \n",
       "1  2423     Regular         No  1986.0  34.0   Male  \n",
       "2  3455     Regular         No  1992.0  28.0   Male  \n",
       "3  2173      Ad-Hoc         No  1995.0  25.0   Male  \n",
       "4  1788     Regular        Yes  1994.0  26.0   Male  "
      ]
     },
     "execution_count": 2,
     "metadata": {},
     "output_type": "execute_result"
    }
   ],
   "source": [
    "df.head()"
   ]
  },
  {
   "cell_type": "code",
   "execution_count": 3,
   "id": "a6622c76",
   "metadata": {},
   "outputs": [
    {
     "data": {
      "text/html": [
       "<div>\n",
       "<style scoped>\n",
       "    .dataframe tbody tr th:only-of-type {\n",
       "        vertical-align: middle;\n",
       "    }\n",
       "\n",
       "    .dataframe tbody tr th {\n",
       "        vertical-align: top;\n",
       "    }\n",
       "\n",
       "    .dataframe thead th {\n",
       "        text-align: right;\n",
       "    }\n",
       "</style>\n",
       "<table border=\"1\" class=\"dataframe\">\n",
       "  <thead>\n",
       "    <tr style=\"text-align: right;\">\n",
       "      <th></th>\n",
       "      <th>origin</th>\n",
       "      <th>destination</th>\n",
       "      <th>id</th>\n",
       "      <th>yob</th>\n",
       "      <th>age</th>\n",
       "    </tr>\n",
       "  </thead>\n",
       "  <tbody>\n",
       "    <tr>\n",
       "      <th>count</th>\n",
       "      <td>669505.000000</td>\n",
       "      <td>669505.000000</td>\n",
       "      <td>670009.000000</td>\n",
       "      <td>669999.000000</td>\n",
       "      <td>669999.000000</td>\n",
       "    </tr>\n",
       "    <tr>\n",
       "      <th>mean</th>\n",
       "      <td>113.350947</td>\n",
       "      <td>111.389453</td>\n",
       "      <td>2174.952754</td>\n",
       "      <td>1982.236818</td>\n",
       "      <td>37.763182</td>\n",
       "    </tr>\n",
       "    <tr>\n",
       "      <th>std</th>\n",
       "      <td>94.125066</td>\n",
       "      <td>93.750900</td>\n",
       "      <td>1183.285391</td>\n",
       "      <td>9.901383</td>\n",
       "      <td>9.901383</td>\n",
       "    </tr>\n",
       "    <tr>\n",
       "      <th>min</th>\n",
       "      <td>3.000000</td>\n",
       "      <td>3.000000</td>\n",
       "      <td>11.000000</td>\n",
       "      <td>1949.000000</td>\n",
       "      <td>20.000000</td>\n",
       "    </tr>\n",
       "    <tr>\n",
       "      <th>25%</th>\n",
       "      <td>31.000000</td>\n",
       "      <td>30.000000</td>\n",
       "      <td>1177.000000</td>\n",
       "      <td>1977.000000</td>\n",
       "      <td>31.000000</td>\n",
       "    </tr>\n",
       "    <tr>\n",
       "      <th>50%</th>\n",
       "      <td>84.000000</td>\n",
       "      <td>81.000000</td>\n",
       "      <td>2265.000000</td>\n",
       "      <td>1984.000000</td>\n",
       "      <td>36.000000</td>\n",
       "    </tr>\n",
       "    <tr>\n",
       "      <th>75%</th>\n",
       "      <td>178.000000</td>\n",
       "      <td>178.000000</td>\n",
       "      <td>3188.000000</td>\n",
       "      <td>1989.000000</td>\n",
       "      <td>43.000000</td>\n",
       "    </tr>\n",
       "    <tr>\n",
       "      <th>max</th>\n",
       "      <td>356.000000</td>\n",
       "      <td>356.000000</td>\n",
       "      <td>4307.000000</td>\n",
       "      <td>2000.000000</td>\n",
       "      <td>71.000000</td>\n",
       "    </tr>\n",
       "  </tbody>\n",
       "</table>\n",
       "</div>"
      ],
      "text/plain": [
       "              origin    destination             id            yob  \\\n",
       "count  669505.000000  669505.000000  670009.000000  669999.000000   \n",
       "mean      113.350947     111.389453    2174.952754    1982.236818   \n",
       "std        94.125066      93.750900    1183.285391       9.901383   \n",
       "min         3.000000       3.000000      11.000000    1949.000000   \n",
       "25%        31.000000      30.000000    1177.000000    1977.000000   \n",
       "50%        84.000000      81.000000    2265.000000    1984.000000   \n",
       "75%       178.000000     178.000000    3188.000000    1989.000000   \n",
       "max       356.000000     356.000000    4307.000000    2000.000000   \n",
       "\n",
       "                 age  \n",
       "count  669999.000000  \n",
       "mean       37.763182  \n",
       "std         9.901383  \n",
       "min        20.000000  \n",
       "25%        31.000000  \n",
       "50%        36.000000  \n",
       "75%        43.000000  \n",
       "max        71.000000  "
      ]
     },
     "execution_count": 3,
     "metadata": {},
     "output_type": "execute_result"
    }
   ],
   "source": [
    "df.describe()"
   ]
  },
  {
   "cell_type": "code",
   "execution_count": 4,
   "id": "0c893af4",
   "metadata": {},
   "outputs": [
    {
     "name": "stdout",
     "output_type": "stream",
     "text": [
      "<class 'pandas.core.frame.DataFrame'>\n",
      "RangeIndex: 670009 entries, 0 to 670008\n",
      "Data columns (total 10 columns):\n",
      " #   Column       Non-Null Count   Dtype  \n",
      "---  ------       --------------   -----  \n",
      " 0   origin       669505 non-null  float64\n",
      " 1   destination  669505 non-null  float64\n",
      " 2   start        670009 non-null  object \n",
      " 3   end          670009 non-null  object \n",
      " 4   id           670009 non-null  int64  \n",
      " 5   type         669999 non-null  object \n",
      " 6   subscriber   670009 non-null  object \n",
      " 7   yob          669999 non-null  float64\n",
      " 8   age          669999 non-null  float64\n",
      " 9   gender       670006 non-null  object \n",
      "dtypes: float64(4), int64(1), object(5)\n",
      "memory usage: 51.1+ MB\n"
     ]
    }
   ],
   "source": [
    "df.info()"
   ]
  },
  {
   "cell_type": "code",
   "execution_count": 5,
   "id": "1ef94f01",
   "metadata": {},
   "outputs": [
    {
     "data": {
      "text/plain": [
       "(670009, 10)"
      ]
     },
     "execution_count": 5,
     "metadata": {},
     "output_type": "execute_result"
    }
   ],
   "source": [
    "df.shape"
   ]
  },
  {
   "cell_type": "markdown",
   "id": "07569cae",
   "metadata": {},
   "source": [
    "### Q1(b)\n",
    "Identify the variable columns which have missing values. As part of data preparation, implement ways to treat them, and explain your rationale. State any interesting observation(s)."
   ]
  },
  {
   "cell_type": "code",
   "execution_count": 6,
   "id": "e5534f76",
   "metadata": {},
   "outputs": [
    {
     "data": {
      "text/plain": [
       "origin          True\n",
       "destination     True\n",
       "start          False\n",
       "end            False\n",
       "id             False\n",
       "type            True\n",
       "subscriber     False\n",
       "yob             True\n",
       "age             True\n",
       "gender          True\n",
       "dtype: bool"
      ]
     },
     "execution_count": 6,
     "metadata": {},
     "output_type": "execute_result"
    }
   ],
   "source": [
    "# Identify which variable columns have missing values.\n",
    "df.isnull().any()"
   ]
  },
  {
   "cell_type": "code",
   "execution_count": 7,
   "id": "fe989842",
   "metadata": {},
   "outputs": [
    {
     "data": {
      "text/plain": [
       "origin         504\n",
       "destination    504\n",
       "start            0\n",
       "end              0\n",
       "id               0\n",
       "type            10\n",
       "subscriber       0\n",
       "yob             10\n",
       "age             10\n",
       "gender           3\n",
       "dtype: int64"
      ]
     },
     "execution_count": 7,
     "metadata": {},
     "output_type": "execute_result"
    }
   ],
   "source": [
    "# Identify number of missing values in each variable columns.\n",
    "df.isnull().sum()"
   ]
  },
  {
   "cell_type": "code",
   "execution_count": 8,
   "id": "35985e96",
   "metadata": {},
   "outputs": [
    {
     "data": {
      "text/html": [
       "<div>\n",
       "<style scoped>\n",
       "    .dataframe tbody tr th:only-of-type {\n",
       "        vertical-align: middle;\n",
       "    }\n",
       "\n",
       "    .dataframe tbody tr th {\n",
       "        vertical-align: top;\n",
       "    }\n",
       "\n",
       "    .dataframe thead th {\n",
       "        text-align: right;\n",
       "    }\n",
       "</style>\n",
       "<table border=\"1\" class=\"dataframe\">\n",
       "  <thead>\n",
       "    <tr style=\"text-align: right;\">\n",
       "      <th></th>\n",
       "      <th>origin</th>\n",
       "      <th>destination</th>\n",
       "      <th>start</th>\n",
       "      <th>end</th>\n",
       "      <th>id</th>\n",
       "      <th>type</th>\n",
       "      <th>subscriber</th>\n",
       "      <th>yob</th>\n",
       "      <th>age</th>\n",
       "      <th>gender</th>\n",
       "    </tr>\n",
       "  </thead>\n",
       "  <tbody>\n",
       "    <tr>\n",
       "      <th>7000</th>\n",
       "      <td>200.0</td>\n",
       "      <td>7.0</td>\n",
       "      <td>2022-01-04 08:20:15.413</td>\n",
       "      <td>2022-01-04 08:31:48.928</td>\n",
       "      <td>666</td>\n",
       "      <td>Regular</td>\n",
       "      <td>No</td>\n",
       "      <td>1977.0</td>\n",
       "      <td>43.0</td>\n",
       "      <td>NaN</td>\n",
       "    </tr>\n",
       "    <tr>\n",
       "      <th>7001</th>\n",
       "      <td>27.0</td>\n",
       "      <td>49.0</td>\n",
       "      <td>2022-01-04 08:20:24.228</td>\n",
       "      <td>2022-01-04 08:26:01.187</td>\n",
       "      <td>3623</td>\n",
       "      <td>Regular</td>\n",
       "      <td>No</td>\n",
       "      <td>1983.0</td>\n",
       "      <td>37.0</td>\n",
       "      <td>NaN</td>\n",
       "    </tr>\n",
       "    <tr>\n",
       "      <th>7002</th>\n",
       "      <td>200.0</td>\n",
       "      <td>163.0</td>\n",
       "      <td>2022-01-04 08:20:24.595</td>\n",
       "      <td>2022-01-04 08:27:42.796</td>\n",
       "      <td>238</td>\n",
       "      <td>Regular</td>\n",
       "      <td>No</td>\n",
       "      <td>1987.0</td>\n",
       "      <td>33.0</td>\n",
       "      <td>NaN</td>\n",
       "    </tr>\n",
       "    <tr>\n",
       "      <th>18000</th>\n",
       "      <td>63.0</td>\n",
       "      <td>40.0</td>\n",
       "      <td>2022-01-09 19:15:27.667</td>\n",
       "      <td>2022-01-09 19:31:14.179</td>\n",
       "      <td>2157</td>\n",
       "      <td>Regular</td>\n",
       "      <td>No</td>\n",
       "      <td>NaN</td>\n",
       "      <td>NaN</td>\n",
       "      <td>Female</td>\n",
       "    </tr>\n",
       "    <tr>\n",
       "      <th>18001</th>\n",
       "      <td>127.0</td>\n",
       "      <td>96.0</td>\n",
       "      <td>2022-01-09 19:15:40.572</td>\n",
       "      <td>2022-01-09 19:22:14.166</td>\n",
       "      <td>610</td>\n",
       "      <td>Regular</td>\n",
       "      <td>No</td>\n",
       "      <td>NaN</td>\n",
       "      <td>NaN</td>\n",
       "      <td>Male</td>\n",
       "    </tr>\n",
       "    <tr>\n",
       "      <th>...</th>\n",
       "      <td>...</td>\n",
       "      <td>...</td>\n",
       "      <td>...</td>\n",
       "      <td>...</td>\n",
       "      <td>...</td>\n",
       "      <td>...</td>\n",
       "      <td>...</td>\n",
       "      <td>...</td>\n",
       "      <td>...</td>\n",
       "      <td>...</td>\n",
       "    </tr>\n",
       "    <tr>\n",
       "      <th>669796</th>\n",
       "      <td>NaN</td>\n",
       "      <td>NaN</td>\n",
       "      <td>2022-06-18 17:29:04.854</td>\n",
       "      <td>2022-06-18 17:39:17.982</td>\n",
       "      <td>4091</td>\n",
       "      <td>Regular</td>\n",
       "      <td>No</td>\n",
       "      <td>1991.0</td>\n",
       "      <td>29.0</td>\n",
       "      <td>Female</td>\n",
       "    </tr>\n",
       "    <tr>\n",
       "      <th>669871</th>\n",
       "      <td>NaN</td>\n",
       "      <td>NaN</td>\n",
       "      <td>2022-06-18 17:33:35.380</td>\n",
       "      <td>2022-06-18 17:40:28.946</td>\n",
       "      <td>4131</td>\n",
       "      <td>Regular</td>\n",
       "      <td>No</td>\n",
       "      <td>1970.0</td>\n",
       "      <td>50.0</td>\n",
       "      <td>Male</td>\n",
       "    </tr>\n",
       "    <tr>\n",
       "      <th>669891</th>\n",
       "      <td>NaN</td>\n",
       "      <td>NaN</td>\n",
       "      <td>2022-06-18 17:35:09.841</td>\n",
       "      <td>2022-06-18 17:40:36.871</td>\n",
       "      <td>4245</td>\n",
       "      <td>Regular</td>\n",
       "      <td>No</td>\n",
       "      <td>1989.0</td>\n",
       "      <td>31.0</td>\n",
       "      <td>Male</td>\n",
       "    </tr>\n",
       "    <tr>\n",
       "      <th>669901</th>\n",
       "      <td>NaN</td>\n",
       "      <td>NaN</td>\n",
       "      <td>2022-06-18 17:35:56.846</td>\n",
       "      <td>2022-06-18 17:41:06.626</td>\n",
       "      <td>4117</td>\n",
       "      <td>Regular</td>\n",
       "      <td>No</td>\n",
       "      <td>1975.0</td>\n",
       "      <td>45.0</td>\n",
       "      <td>Male</td>\n",
       "    </tr>\n",
       "    <tr>\n",
       "      <th>670008</th>\n",
       "      <td>NaN</td>\n",
       "      <td>NaN</td>\n",
       "      <td>2022-06-18 17:42:54.106</td>\n",
       "      <td>2022-06-18 17:54:18.615</td>\n",
       "      <td>3767</td>\n",
       "      <td>Regular</td>\n",
       "      <td>No</td>\n",
       "      <td>1991.0</td>\n",
       "      <td>29.0</td>\n",
       "      <td>Male</td>\n",
       "    </tr>\n",
       "  </tbody>\n",
       "</table>\n",
       "<p>527 rows × 10 columns</p>\n",
       "</div>"
      ],
      "text/plain": [
       "        origin  destination                    start                      end  \\\n",
       "7000     200.0          7.0  2022-01-04 08:20:15.413  2022-01-04 08:31:48.928   \n",
       "7001      27.0         49.0  2022-01-04 08:20:24.228  2022-01-04 08:26:01.187   \n",
       "7002     200.0        163.0  2022-01-04 08:20:24.595  2022-01-04 08:27:42.796   \n",
       "18000     63.0         40.0  2022-01-09 19:15:27.667  2022-01-09 19:31:14.179   \n",
       "18001    127.0         96.0  2022-01-09 19:15:40.572  2022-01-09 19:22:14.166   \n",
       "...        ...          ...                      ...                      ...   \n",
       "669796     NaN          NaN  2022-06-18 17:29:04.854  2022-06-18 17:39:17.982   \n",
       "669871     NaN          NaN  2022-06-18 17:33:35.380  2022-06-18 17:40:28.946   \n",
       "669891     NaN          NaN  2022-06-18 17:35:09.841  2022-06-18 17:40:36.871   \n",
       "669901     NaN          NaN  2022-06-18 17:35:56.846  2022-06-18 17:41:06.626   \n",
       "670008     NaN          NaN  2022-06-18 17:42:54.106  2022-06-18 17:54:18.615   \n",
       "\n",
       "          id     type subscriber     yob   age  gender  \n",
       "7000     666  Regular         No  1977.0  43.0     NaN  \n",
       "7001    3623  Regular         No  1983.0  37.0     NaN  \n",
       "7002     238  Regular         No  1987.0  33.0     NaN  \n",
       "18000   2157  Regular         No     NaN   NaN  Female  \n",
       "18001    610  Regular         No     NaN   NaN    Male  \n",
       "...      ...      ...        ...     ...   ...     ...  \n",
       "669796  4091  Regular         No  1991.0  29.0  Female  \n",
       "669871  4131  Regular         No  1970.0  50.0    Male  \n",
       "669891  4245  Regular         No  1989.0  31.0    Male  \n",
       "669901  4117  Regular         No  1975.0  45.0    Male  \n",
       "670008  3767  Regular         No  1991.0  29.0    Male  \n",
       "\n",
       "[527 rows x 10 columns]"
      ]
     },
     "execution_count": 8,
     "metadata": {},
     "output_type": "execute_result"
    }
   ],
   "source": [
    "# Display rows with missing vales to look for interesting observations.\n",
    "missrow = df.isnull().any(axis = 1)\n",
    "df.loc[missrow[missrow == True].index]"
   ]
  },
  {
   "cell_type": "code",
   "execution_count": 9,
   "id": "fa75bfa7",
   "metadata": {},
   "outputs": [],
   "source": [
    "# Way to treat 'origin' & 'destination' is to delete the entire observations.\n",
    "df = df.dropna(axis = 0, subset = ('origin', 'destination'))"
   ]
  },
  {
   "cell_type": "code",
   "execution_count": 10,
   "id": "0b8e0c2b",
   "metadata": {},
   "outputs": [
    {
     "data": {
      "text/plain": [
       "(669505, 10)"
      ]
     },
     "execution_count": 10,
     "metadata": {},
     "output_type": "execute_result"
    }
   ],
   "source": [
    "# Check if deleted (670,009 - 504 = 669,505) (DON'T INCLUDE IN ANSWER)\n",
    "df.shape"
   ]
  },
  {
   "cell_type": "code",
   "execution_count": 11,
   "id": "0a3d4de5",
   "metadata": {},
   "outputs": [
    {
     "name": "stdout",
     "output_type": "stream",
     "text": [
      "1982.2343841253482\n",
      "37.76561587465179\n"
     ]
    }
   ],
   "source": [
    "# Check if replace() works (DON'T INCLUDE IN ANSWER)\n",
    "print(df['yob'].mean())\n",
    "print(df['age'].mean())"
   ]
  },
  {
   "cell_type": "code",
   "execution_count": 12,
   "id": "b113feab",
   "metadata": {},
   "outputs": [],
   "source": [
    "# Way to treat 'yob' & 'age' is to replace them by their mean/average.\n",
    "import numpy as np\n",
    "\n",
    "df['yob'].replace([np.nan], df['yob'].mean(), inplace = True)\n",
    "df['age'].replace([np.nan], df['age'].mean(), inplace = True)"
   ]
  },
  {
   "cell_type": "code",
   "execution_count": 12,
   "id": "1633e1cb",
   "metadata": {},
   "outputs": [
    {
     "data": {
      "text/plain": [
       "origin          0\n",
       "destination     0\n",
       "start           0\n",
       "end             0\n",
       "id              0\n",
       "type           10\n",
       "subscriber      0\n",
       "yob            10\n",
       "age            10\n",
       "gender          3\n",
       "dtype: int64"
      ]
     },
     "execution_count": 12,
     "metadata": {},
     "output_type": "execute_result"
    }
   ],
   "source": [
    "# Check if replace() works (DON'T INCLUDE IN ANSWER)\n",
    "df.isnull().sum()"
   ]
  },
  {
   "cell_type": "code",
   "execution_count": 13,
   "id": "6e4e5439",
   "metadata": {
    "scrolled": true
   },
   "outputs": [
    {
     "data": {
      "text/html": [
       "<div>\n",
       "<style scoped>\n",
       "    .dataframe tbody tr th:only-of-type {\n",
       "        vertical-align: middle;\n",
       "    }\n",
       "\n",
       "    .dataframe tbody tr th {\n",
       "        vertical-align: top;\n",
       "    }\n",
       "\n",
       "    .dataframe thead th {\n",
       "        text-align: right;\n",
       "    }\n",
       "</style>\n",
       "<table border=\"1\" class=\"dataframe\">\n",
       "  <thead>\n",
       "    <tr style=\"text-align: right;\">\n",
       "      <th></th>\n",
       "      <th>origin</th>\n",
       "      <th>destination</th>\n",
       "      <th>start</th>\n",
       "      <th>end</th>\n",
       "      <th>id</th>\n",
       "      <th>type</th>\n",
       "      <th>subscriber</th>\n",
       "      <th>yob</th>\n",
       "      <th>age</th>\n",
       "      <th>gender</th>\n",
       "    </tr>\n",
       "  </thead>\n",
       "  <tbody>\n",
       "    <tr>\n",
       "      <th>17997</th>\n",
       "      <td>15.0</td>\n",
       "      <td>81.0</td>\n",
       "      <td>2022-01-09 19:15:04.736</td>\n",
       "      <td>2022-01-09 19:24:50.903</td>\n",
       "      <td>2898</td>\n",
       "      <td>Regular</td>\n",
       "      <td>No</td>\n",
       "      <td>1986.0</td>\n",
       "      <td>34.0</td>\n",
       "      <td>Female</td>\n",
       "    </tr>\n",
       "    <tr>\n",
       "      <th>17998</th>\n",
       "      <td>59.0</td>\n",
       "      <td>100.0</td>\n",
       "      <td>2022-01-09 19:15:26.411</td>\n",
       "      <td>2022-01-09 19:20:30.102</td>\n",
       "      <td>1992</td>\n",
       "      <td>Regular</td>\n",
       "      <td>No</td>\n",
       "      <td>1988.0</td>\n",
       "      <td>32.0</td>\n",
       "      <td>Male</td>\n",
       "    </tr>\n",
       "    <tr>\n",
       "      <th>17999</th>\n",
       "      <td>5.0</td>\n",
       "      <td>81.0</td>\n",
       "      <td>2022-01-09 19:15:27.436</td>\n",
       "      <td>2022-01-09 19:25:25.676</td>\n",
       "      <td>209</td>\n",
       "      <td>Regular</td>\n",
       "      <td>No</td>\n",
       "      <td>1993.0</td>\n",
       "      <td>27.0</td>\n",
       "      <td>Male</td>\n",
       "    </tr>\n",
       "    <tr>\n",
       "      <th>18000</th>\n",
       "      <td>63.0</td>\n",
       "      <td>40.0</td>\n",
       "      <td>2022-01-09 19:15:27.667</td>\n",
       "      <td>2022-01-09 19:31:14.179</td>\n",
       "      <td>2157</td>\n",
       "      <td>Regular</td>\n",
       "      <td>No</td>\n",
       "      <td>NaN</td>\n",
       "      <td>NaN</td>\n",
       "      <td>Female</td>\n",
       "    </tr>\n",
       "    <tr>\n",
       "      <th>18001</th>\n",
       "      <td>127.0</td>\n",
       "      <td>96.0</td>\n",
       "      <td>2022-01-09 19:15:40.572</td>\n",
       "      <td>2022-01-09 19:22:14.166</td>\n",
       "      <td>610</td>\n",
       "      <td>Regular</td>\n",
       "      <td>No</td>\n",
       "      <td>NaN</td>\n",
       "      <td>NaN</td>\n",
       "      <td>Male</td>\n",
       "    </tr>\n",
       "  </tbody>\n",
       "</table>\n",
       "</div>"
      ],
      "text/plain": [
       "       origin  destination                    start                      end  \\\n",
       "17997    15.0         81.0  2022-01-09 19:15:04.736  2022-01-09 19:24:50.903   \n",
       "17998    59.0        100.0  2022-01-09 19:15:26.411  2022-01-09 19:20:30.102   \n",
       "17999     5.0         81.0  2022-01-09 19:15:27.436  2022-01-09 19:25:25.676   \n",
       "18000    63.0         40.0  2022-01-09 19:15:27.667  2022-01-09 19:31:14.179   \n",
       "18001   127.0         96.0  2022-01-09 19:15:40.572  2022-01-09 19:22:14.166   \n",
       "\n",
       "         id     type subscriber     yob   age  gender  \n",
       "17997  2898  Regular         No  1986.0  34.0  Female  \n",
       "17998  1992  Regular         No  1988.0  32.0    Male  \n",
       "17999   209  Regular         No  1993.0  27.0    Male  \n",
       "18000  2157  Regular         No     NaN   NaN  Female  \n",
       "18001   610  Regular         No     NaN   NaN    Male  "
      ]
     },
     "execution_count": 13,
     "metadata": {},
     "output_type": "execute_result"
    }
   ],
   "source": [
    "# Check if replace() works (DON'T INCLUDE IN ANSWER)\n",
    "df.iloc[17997:18002]"
   ]
  },
  {
   "cell_type": "markdown",
   "id": "5c19c864",
   "metadata": {},
   "source": [
    "### Q1(c)\n",
    "As part of data preparation, identify three (3) other data quality issues in the data. Similarly, suggest and implement ways to treat them, and explain your rationale."
   ]
  },
  {
   "cell_type": "code",
   "execution_count": 15,
   "id": "a615a8b7",
   "metadata": {},
   "outputs": [
    {
     "name": "stdout",
     "output_type": "stream",
     "text": [
      "<class 'pandas.core.frame.DataFrame'>\n",
      "Int64Index: 669505 entries, 0 to 670007\n",
      "Data columns (total 10 columns):\n",
      " #   Column       Non-Null Count   Dtype  \n",
      "---  ------       --------------   -----  \n",
      " 0   origin       669505 non-null  float64\n",
      " 1   destination  669505 non-null  float64\n",
      " 2   start        669505 non-null  object \n",
      " 3   end          669505 non-null  object \n",
      " 4   id           669505 non-null  int64  \n",
      " 5   type         669495 non-null  object \n",
      " 6   subscriber   669505 non-null  object \n",
      " 7   yob          669505 non-null  float64\n",
      " 8   age          669505 non-null  float64\n",
      " 9   gender       669502 non-null  object \n",
      "dtypes: float64(4), int64(1), object(5)\n",
      "memory usage: 56.2+ MB\n"
     ]
    }
   ],
   "source": [
    "# 1st data quality issue is Inappropriate Datatype.\n",
    "# Identifying the original type of datatype.\n",
    "df.info()"
   ]
  },
  {
   "cell_type": "code",
   "execution_count": 16,
   "id": "62b023cc",
   "metadata": {},
   "outputs": [
    {
     "name": "stdout",
     "output_type": "stream",
     "text": [
      "<class 'pandas.core.frame.DataFrame'>\n",
      "Int64Index: 669505 entries, 0 to 670007\n",
      "Data columns (total 10 columns):\n",
      " #   Column       Non-Null Count   Dtype \n",
      "---  ------       --------------   ----- \n",
      " 0   origin       669505 non-null  int64 \n",
      " 1   destination  669505 non-null  int64 \n",
      " 2   start        669505 non-null  object\n",
      " 3   end          669505 non-null  object\n",
      " 4   id           669505 non-null  int64 \n",
      " 5   type         669495 non-null  object\n",
      " 6   subscriber   669505 non-null  object\n",
      " 7   yob          669505 non-null  int64 \n",
      " 8   age          669505 non-null  int64 \n",
      " 9   gender       669502 non-null  object\n",
      "dtypes: int64(5), object(5)\n",
      "memory usage: 56.2+ MB\n"
     ]
    }
   ],
   "source": [
    "# Changing datatype based on its column properties.\n",
    "df['origin'] = df['origin'].astype('int64')\n",
    "df['destination'] = df['destination'].astype('int64')\n",
    "df['start'] = df['start'].astype('object')\n",
    "df['end'] = df['end'].astype('object')\n",
    "df['id'] = df['id'].astype('int64')\n",
    "df['type'] = df['type'].astype('object')\n",
    "df['subscriber'] = df['subscriber'].astype('object')\n",
    "df['yob'] = df['yob'].astype('int64')\n",
    "df['age'] = df['age'].astype('int64')\n",
    "df['gender'] = df['gender'].astype('object')\n",
    "df.info()"
   ]
  },
  {
   "cell_type": "code",
   "execution_count": 17,
   "id": "2a491807",
   "metadata": {},
   "outputs": [
    {
     "data": {
      "text/html": [
       "<div>\n",
       "<style scoped>\n",
       "    .dataframe tbody tr th:only-of-type {\n",
       "        vertical-align: middle;\n",
       "    }\n",
       "\n",
       "    .dataframe tbody tr th {\n",
       "        vertical-align: top;\n",
       "    }\n",
       "\n",
       "    .dataframe thead th {\n",
       "        text-align: right;\n",
       "    }\n",
       "</style>\n",
       "<table border=\"1\" class=\"dataframe\">\n",
       "  <thead>\n",
       "    <tr style=\"text-align: right;\">\n",
       "      <th></th>\n",
       "      <th>origin</th>\n",
       "      <th>destination</th>\n",
       "      <th>start</th>\n",
       "      <th>end</th>\n",
       "      <th>id</th>\n",
       "      <th>type</th>\n",
       "      <th>subscriber</th>\n",
       "      <th>yob</th>\n",
       "      <th>age</th>\n",
       "      <th>gender</th>\n",
       "    </tr>\n",
       "  </thead>\n",
       "  <tbody>\n",
       "    <tr>\n",
       "      <th>17997</th>\n",
       "      <td>15</td>\n",
       "      <td>81</td>\n",
       "      <td>2022-01-09 19:15:04.736</td>\n",
       "      <td>2022-01-09 19:24:50.903</td>\n",
       "      <td>2898</td>\n",
       "      <td>Regular</td>\n",
       "      <td>No</td>\n",
       "      <td>1986</td>\n",
       "      <td>34</td>\n",
       "      <td>Female</td>\n",
       "    </tr>\n",
       "    <tr>\n",
       "      <th>17998</th>\n",
       "      <td>59</td>\n",
       "      <td>100</td>\n",
       "      <td>2022-01-09 19:15:26.411</td>\n",
       "      <td>2022-01-09 19:20:30.102</td>\n",
       "      <td>1992</td>\n",
       "      <td>Regular</td>\n",
       "      <td>No</td>\n",
       "      <td>1988</td>\n",
       "      <td>32</td>\n",
       "      <td>Male</td>\n",
       "    </tr>\n",
       "    <tr>\n",
       "      <th>17999</th>\n",
       "      <td>5</td>\n",
       "      <td>81</td>\n",
       "      <td>2022-01-09 19:15:27.436</td>\n",
       "      <td>2022-01-09 19:25:25.676</td>\n",
       "      <td>209</td>\n",
       "      <td>Regular</td>\n",
       "      <td>No</td>\n",
       "      <td>1993</td>\n",
       "      <td>27</td>\n",
       "      <td>Male</td>\n",
       "    </tr>\n",
       "    <tr>\n",
       "      <th>18000</th>\n",
       "      <td>63</td>\n",
       "      <td>40</td>\n",
       "      <td>2022-01-09 19:15:27.667</td>\n",
       "      <td>2022-01-09 19:31:14.179</td>\n",
       "      <td>2157</td>\n",
       "      <td>Regular</td>\n",
       "      <td>No</td>\n",
       "      <td>1982</td>\n",
       "      <td>37</td>\n",
       "      <td>Female</td>\n",
       "    </tr>\n",
       "    <tr>\n",
       "      <th>18001</th>\n",
       "      <td>127</td>\n",
       "      <td>96</td>\n",
       "      <td>2022-01-09 19:15:40.572</td>\n",
       "      <td>2022-01-09 19:22:14.166</td>\n",
       "      <td>610</td>\n",
       "      <td>Regular</td>\n",
       "      <td>No</td>\n",
       "      <td>1982</td>\n",
       "      <td>37</td>\n",
       "      <td>Male</td>\n",
       "    </tr>\n",
       "  </tbody>\n",
       "</table>\n",
       "</div>"
      ],
      "text/plain": [
       "       origin  destination                    start                      end  \\\n",
       "17997      15           81  2022-01-09 19:15:04.736  2022-01-09 19:24:50.903   \n",
       "17998      59          100  2022-01-09 19:15:26.411  2022-01-09 19:20:30.102   \n",
       "17999       5           81  2022-01-09 19:15:27.436  2022-01-09 19:25:25.676   \n",
       "18000      63           40  2022-01-09 19:15:27.667  2022-01-09 19:31:14.179   \n",
       "18001     127           96  2022-01-09 19:15:40.572  2022-01-09 19:22:14.166   \n",
       "\n",
       "         id     type subscriber   yob  age  gender  \n",
       "17997  2898  Regular         No  1986   34  Female  \n",
       "17998  1992  Regular         No  1988   32    Male  \n",
       "17999   209  Regular         No  1993   27    Male  \n",
       "18000  2157  Regular         No  1982   37  Female  \n",
       "18001   610  Regular         No  1982   37    Male  "
      ]
     },
     "execution_count": 17,
     "metadata": {},
     "output_type": "execute_result"
    }
   ],
   "source": [
    "# Check if change of datatype works (DON'T INCLUDE IN ANSWER)\n",
    "df.iloc[17997:18002]"
   ]
  },
  {
   "cell_type": "code",
   "execution_count": 14,
   "id": "cc8fe036",
   "metadata": {},
   "outputs": [
    {
     "name": "stdout",
     "output_type": "stream",
     "text": [
      "Total number of orgin and destinaion are equal in 14686 entries\n"
     ]
    }
   ],
   "source": [
    "# 2nd data quality issue is Duplicate Data.\n",
    "# Identifying data with similar 'origin' and 'destination'.\n",
    "res = []\n",
    "for i, j in zip(df['origin'], df['destination']):\n",
    "    if i == j:\n",
    "        res.append(i)\n",
    "\n",
    "# Print the number of data with similar 'origin' and 'destination'.\n",
    "print(\"Total number of orgin and destinaion are equal in\",len(res),\"entries\")"
   ]
  },
  {
   "cell_type": "code",
   "execution_count": 15,
   "id": "0b071c88",
   "metadata": {},
   "outputs": [
    {
     "name": "stdout",
     "output_type": "stream",
     "text": [
      "Total number of orgin and destinaion are equal in 0 entries\n"
     ]
    }
   ],
   "source": [
    "# Removal of data with similar 'origin' and 'destination'.\n",
    "df = df[df.destination != df.origin]\n",
    "# df = df[df.start != df.end]   # what is this for?\n",
    "\n",
    "res = []\n",
    "for i, j in zip(df['origin'], df['destination']):\n",
    "    if i == j:\n",
    "        res.append(i)\n",
    "\n",
    "# Print the number of data with similar 'origin' and 'destination'.\n",
    "print(\"Total number of orgin and destinaion are equal in\",len(res),\"entries\")"
   ]
  },
  {
   "cell_type": "code",
   "execution_count": 20,
   "id": "05191a99",
   "metadata": {},
   "outputs": [
    {
     "data": {
      "text/plain": [
       "(654819, 10)"
      ]
     },
     "execution_count": 20,
     "metadata": {},
     "output_type": "execute_result"
    }
   ],
   "source": [
    "# Check if deleted (669,505 - 14,686 = 654,819) (DON'T INCLUDE IN ANSWER)\n",
    "df.shape"
   ]
  },
  {
   "cell_type": "code",
   "execution_count": 16,
   "id": "48a33126",
   "metadata": {},
   "outputs": [
    {
     "name": "stdout",
     "output_type": "stream",
     "text": [
      "2022\n"
     ]
    },
    {
     "data": {
      "text/plain": [
       "int"
      ]
     },
     "execution_count": 16,
     "metadata": {},
     "output_type": "execute_result"
    }
   ],
   "source": [
    "# 3rd data quality issue is Outdated Information.\n",
    "from datetime import date\n",
    "\n",
    "current_year = date.today().year\n",
    "print(current_year)\n",
    "type(current_year)"
   ]
  },
  {
   "cell_type": "code",
   "execution_count": 17,
   "id": "130d4d2d",
   "metadata": {},
   "outputs": [
    {
     "name": "stdout",
     "output_type": "stream",
     "text": [
      "0         65.0\n",
      "1         36.0\n",
      "2         30.0\n",
      "3         27.0\n",
      "4         28.0\n",
      "          ... \n",
      "670003    37.0\n",
      "670004    44.0\n",
      "670005    34.0\n",
      "670006    42.0\n",
      "670007    45.0\n",
      "Name: age, Length: 654819, dtype: float64\n"
     ]
    },
    {
     "data": {
      "text/html": [
       "<div>\n",
       "<style scoped>\n",
       "    .dataframe tbody tr th:only-of-type {\n",
       "        vertical-align: middle;\n",
       "    }\n",
       "\n",
       "    .dataframe tbody tr th {\n",
       "        vertical-align: top;\n",
       "    }\n",
       "\n",
       "    .dataframe thead th {\n",
       "        text-align: right;\n",
       "    }\n",
       "</style>\n",
       "<table border=\"1\" class=\"dataframe\">\n",
       "  <thead>\n",
       "    <tr style=\"text-align: right;\">\n",
       "      <th></th>\n",
       "      <th>origin</th>\n",
       "      <th>destination</th>\n",
       "      <th>start</th>\n",
       "      <th>end</th>\n",
       "      <th>id</th>\n",
       "      <th>type</th>\n",
       "      <th>subscriber</th>\n",
       "      <th>yob</th>\n",
       "      <th>age</th>\n",
       "      <th>gender</th>\n",
       "    </tr>\n",
       "  </thead>\n",
       "  <tbody>\n",
       "    <tr>\n",
       "      <th>0</th>\n",
       "      <td>316.0</td>\n",
       "      <td>311.0</td>\n",
       "      <td>2022-01-01 00:07:41.040</td>\n",
       "      <td>2022-01-01 00:10:06.241</td>\n",
       "      <td>2473</td>\n",
       "      <td>Concession</td>\n",
       "      <td>No</td>\n",
       "      <td>1957.0</td>\n",
       "      <td>65.0</td>\n",
       "      <td>Male</td>\n",
       "    </tr>\n",
       "    <tr>\n",
       "      <th>1</th>\n",
       "      <td>74.0</td>\n",
       "      <td>70.0</td>\n",
       "      <td>2022-01-01 00:07:52.943</td>\n",
       "      <td>2022-01-01 00:19:47.075</td>\n",
       "      <td>2423</td>\n",
       "      <td>Regular</td>\n",
       "      <td>No</td>\n",
       "      <td>1986.0</td>\n",
       "      <td>36.0</td>\n",
       "      <td>Male</td>\n",
       "    </tr>\n",
       "    <tr>\n",
       "      <th>2</th>\n",
       "      <td>97.0</td>\n",
       "      <td>125.0</td>\n",
       "      <td>2022-01-01 00:09:31.745</td>\n",
       "      <td>2022-01-01 00:28:43.159</td>\n",
       "      <td>3455</td>\n",
       "      <td>Regular</td>\n",
       "      <td>No</td>\n",
       "      <td>1992.0</td>\n",
       "      <td>30.0</td>\n",
       "      <td>Male</td>\n",
       "    </tr>\n",
       "    <tr>\n",
       "      <th>3</th>\n",
       "      <td>11.0</td>\n",
       "      <td>323.0</td>\n",
       "      <td>2022-01-01 00:14:37.187</td>\n",
       "      <td>2022-01-01 00:37:16.445</td>\n",
       "      <td>2173</td>\n",
       "      <td>Ad-Hoc</td>\n",
       "      <td>No</td>\n",
       "      <td>1995.0</td>\n",
       "      <td>27.0</td>\n",
       "      <td>Male</td>\n",
       "    </tr>\n",
       "    <tr>\n",
       "      <th>4</th>\n",
       "      <td>17.0</td>\n",
       "      <td>8.0</td>\n",
       "      <td>2022-01-01 00:15:33.369</td>\n",
       "      <td>2022-01-01 00:58:56.522</td>\n",
       "      <td>1788</td>\n",
       "      <td>Regular</td>\n",
       "      <td>Yes</td>\n",
       "      <td>1994.0</td>\n",
       "      <td>28.0</td>\n",
       "      <td>Male</td>\n",
       "    </tr>\n",
       "    <tr>\n",
       "      <th>...</th>\n",
       "      <td>...</td>\n",
       "      <td>...</td>\n",
       "      <td>...</td>\n",
       "      <td>...</td>\n",
       "      <td>...</td>\n",
       "      <td>...</td>\n",
       "      <td>...</td>\n",
       "      <td>...</td>\n",
       "      <td>...</td>\n",
       "      <td>...</td>\n",
       "    </tr>\n",
       "    <tr>\n",
       "      <th>670003</th>\n",
       "      <td>61.0</td>\n",
       "      <td>22.0</td>\n",
       "      <td>2022-06-18 17:42:30.437</td>\n",
       "      <td>2022-06-18 17:55:04.850</td>\n",
       "      <td>3391</td>\n",
       "      <td>Regular</td>\n",
       "      <td>No</td>\n",
       "      <td>1985.0</td>\n",
       "      <td>37.0</td>\n",
       "      <td>Male</td>\n",
       "    </tr>\n",
       "    <tr>\n",
       "      <th>670004</th>\n",
       "      <td>89.0</td>\n",
       "      <td>30.0</td>\n",
       "      <td>2022-06-18 17:42:34.601</td>\n",
       "      <td>2022-06-18 17:47:38.890</td>\n",
       "      <td>558</td>\n",
       "      <td>Regular</td>\n",
       "      <td>No</td>\n",
       "      <td>1978.0</td>\n",
       "      <td>44.0</td>\n",
       "      <td>Male</td>\n",
       "    </tr>\n",
       "    <tr>\n",
       "      <th>670005</th>\n",
       "      <td>113.0</td>\n",
       "      <td>110.0</td>\n",
       "      <td>2022-06-18 17:42:37.555</td>\n",
       "      <td>2022-06-18 17:44:43.645</td>\n",
       "      <td>1243</td>\n",
       "      <td>Regular</td>\n",
       "      <td>No</td>\n",
       "      <td>1988.0</td>\n",
       "      <td>34.0</td>\n",
       "      <td>Male</td>\n",
       "    </tr>\n",
       "    <tr>\n",
       "      <th>670006</th>\n",
       "      <td>109.0</td>\n",
       "      <td>121.0</td>\n",
       "      <td>2022-06-18 17:42:44.010</td>\n",
       "      <td>2022-06-18 17:44:31.715</td>\n",
       "      <td>2403</td>\n",
       "      <td>Regular</td>\n",
       "      <td>No</td>\n",
       "      <td>1980.0</td>\n",
       "      <td>42.0</td>\n",
       "      <td>Male</td>\n",
       "    </tr>\n",
       "    <tr>\n",
       "      <th>670007</th>\n",
       "      <td>36.0</td>\n",
       "      <td>76.0</td>\n",
       "      <td>2022-06-18 17:42:52.902</td>\n",
       "      <td>2022-06-18 17:59:46.505</td>\n",
       "      <td>2545</td>\n",
       "      <td>Regular</td>\n",
       "      <td>No</td>\n",
       "      <td>1977.0</td>\n",
       "      <td>45.0</td>\n",
       "      <td>Male</td>\n",
       "    </tr>\n",
       "  </tbody>\n",
       "</table>\n",
       "<p>654809 rows × 10 columns</p>\n",
       "</div>"
      ],
      "text/plain": [
       "        origin  destination                    start                      end  \\\n",
       "0        316.0        311.0  2022-01-01 00:07:41.040  2022-01-01 00:10:06.241   \n",
       "1         74.0         70.0  2022-01-01 00:07:52.943  2022-01-01 00:19:47.075   \n",
       "2         97.0        125.0  2022-01-01 00:09:31.745  2022-01-01 00:28:43.159   \n",
       "3         11.0        323.0  2022-01-01 00:14:37.187  2022-01-01 00:37:16.445   \n",
       "4         17.0          8.0  2022-01-01 00:15:33.369  2022-01-01 00:58:56.522   \n",
       "...        ...          ...                      ...                      ...   \n",
       "670003    61.0         22.0  2022-06-18 17:42:30.437  2022-06-18 17:55:04.850   \n",
       "670004    89.0         30.0  2022-06-18 17:42:34.601  2022-06-18 17:47:38.890   \n",
       "670005   113.0        110.0  2022-06-18 17:42:37.555  2022-06-18 17:44:43.645   \n",
       "670006   109.0        121.0  2022-06-18 17:42:44.010  2022-06-18 17:44:31.715   \n",
       "670007    36.0         76.0  2022-06-18 17:42:52.902  2022-06-18 17:59:46.505   \n",
       "\n",
       "          id        type subscriber     yob   age gender  \n",
       "0       2473  Concession         No  1957.0  65.0   Male  \n",
       "1       2423     Regular         No  1986.0  36.0   Male  \n",
       "2       3455     Regular         No  1992.0  30.0   Male  \n",
       "3       2173      Ad-Hoc         No  1995.0  27.0   Male  \n",
       "4       1788     Regular        Yes  1994.0  28.0   Male  \n",
       "...      ...         ...        ...     ...   ...    ...  \n",
       "670003  3391     Regular         No  1985.0  37.0   Male  \n",
       "670004   558     Regular         No  1978.0  44.0   Male  \n",
       "670005  1243     Regular         No  1988.0  34.0   Male  \n",
       "670006  2403     Regular         No  1980.0  42.0   Male  \n",
       "670007  2545     Regular         No  1977.0  45.0   Male  \n",
       "\n",
       "[654809 rows x 10 columns]"
      ]
     },
     "execution_count": 17,
     "metadata": {},
     "output_type": "execute_result"
    }
   ],
   "source": [
    "# Updating 'age'\n",
    "df.dropna(subset = ['yob', 'age'])\n",
    "df['yob']\n",
    "df['age'] = current_year - df['yob']\n",
    "print(df['age'])\n",
    "df2 = df.dropna(subset=['yob', 'age'])\n",
    "# print(df2)\n",
    "df2"
   ]
  },
  {
   "cell_type": "markdown",
   "id": "c15bfeed",
   "metadata": {},
   "source": [
    "### Q1(d)\n",
    "Develop a user-defined function that will print the hour, expressed in the 12-hour clock format (e.g., 12am, 1pm), whereby the highest number of commuters start their journey."
   ]
  },
  {
   "cell_type": "code",
   "execution_count": 18,
   "id": "0da93f79",
   "metadata": {},
   "outputs": [],
   "source": [
    "from datetime import datetime\n",
    "\n",
    "def GetHighestNumberofCommuters(start_time):\n",
    "    start_hour = []\n",
    "\n",
    "    for i in start_time:\n",
    "        hour = datetime.strptime(i, \"%Y-%m-%d %H:%M:%S.%f\").hour\n",
    "        start_hour.append(hour)\n",
    "\n",
    "    time_dict = {}\n",
    "\n",
    "    for time in start_hour:\n",
    "        if time == 0:\n",
    "          twelve_hr_format = '12am'\n",
    "        elif 1 <= time <= 11:\n",
    "          twelve_hr_format = str(time) + 'am'\n",
    "        elif time == 12:\n",
    "          twelve_hr_format = '12pm'\n",
    "        else:\n",
    "          twelve_hr_format = str(time - 12) + 'pm'\n",
    "        try:\n",
    "            time_dict[twelve_hr_format] += 1\n",
    "        except:\n",
    "            time_dict[twelve_hr_format] = 1\n",
    "\n",
    "    highest = max(time_dict, key = time_dict.get)\n",
    "    return highest"
   ]
  },
  {
   "cell_type": "code",
   "execution_count": 19,
   "id": "e228bc29",
   "metadata": {},
   "outputs": [
    {
     "name": "stdout",
     "output_type": "stream",
     "text": [
      "Highest number of commuters start their journey at 5pm\n"
     ]
    }
   ],
   "source": [
    "print(\"Highest number of commuters start their journey at\",GetHighestNumberofCommuters(start_time = df['start']))"
   ]
  },
  {
   "cell_type": "markdown",
   "id": "19556bc6",
   "metadata": {},
   "source": [
    "### Q1(e)\n",
    "Write a Python code to create appropriate visualisations of the commuter data. Analyse the results and then discuss three (3) interesting insights."
   ]
  },
  {
   "cell_type": "code",
   "execution_count": 21,
   "id": "ddc95720",
   "metadata": {},
   "outputs": [
    {
     "data": {
      "image/png": "[encoded data removed]",
      "text/plain": [
       "<Figure size 432x288 with 1 Axes>"
      ]
     },
     "metadata": {
      "needs_background": "light"
     },
     "output_type": "display_data"
    }
   ],
   "source": [
    "# Histogram of customer profile type\n",
    "import matplotlib.pyplot as plt\n",
    "df = df.dropna()\n",
    "type_data = {}\n",
    "\n",
    "for i in df['type']:\n",
    "    type_data[str(i)] = 0\n",
    "\n",
    "for i in df['type']:\n",
    "    type_data[str(i)] = type_data[str(i)] + 1\n",
    "\n",
    "type_data\n",
    "plt.title('Histogram of Customer Profile Type')\n",
    "plt.xlabel('Types')\n",
    "plt.ylabel('Number of Commuters')\n",
    "type_data_names = list(type_data.keys())\n",
    "type_data_values = list(type_data.values())\n",
    "plt.bar(range(len(type_data)), type_data_values, tick_label = type_data_names)\n",
    "plt.show()"
   ]
  },
  {
   "cell_type": "code",
   "execution_count": 26,
   "id": "f73f89c9",
   "metadata": {},
   "outputs": [
    {
     "data": {
      "image/png": "[encoded data removed]",
      "text/plain": [
       "<Figure size 432x288 with 1 Axes>"
      ]
     },
     "metadata": {
      "needs_background": "light"
     },
     "output_type": "display_data"
    }
   ],
   "source": [
    "# Histogram of customer gender\n",
    "type_data = {}\n",
    "\n",
    "for i  in df['gender']:\n",
    "    type_data[str(i)] = 0\n",
    "\n",
    "for i  in df['gender']:\n",
    "    type_data[str(i)] = type_data[str(i)] + 1\n",
    "\n",
    "type_data\n",
    "type_data_names = list(type_data.keys())\n",
    "type_data_values = list(type_data.values())\n",
    "plt.title('Histogram of Customer Gender')\n",
    "plt.xlabel('Genders')\n",
    "plt.ylabel('Number of Commuters')\n",
    "plt.bar(range(len(type_data)), type_data_values, tick_label = type_data_names)\n",
    "plt.show()"
   ]
  },
  {
   "cell_type": "code",
   "execution_count": 27,
   "id": "14364a47",
   "metadata": {},
   "outputs": [
    {
     "data": {
      "image/png": "[encoded data removed]",
      "text/plain": [
       "<Figure size 432x288 with 1 Axes>"
      ]
     },
     "metadata": {
      "needs_background": "light"
     },
     "output_type": "display_data"
    }
   ],
   "source": [
    "# Histogram of customer year of birth\n",
    "type_data = {'1949-1959':0,'1959-1969':0,'1969-1979':0,'1979-1989':0,'1989-1999':0,'1999-2009':0}\n",
    "\n",
    "for i  in df['yob']:\n",
    "    if i < 1959:\n",
    "        type_data[str('1949-1959')] = type_data[str('1949-1959')] + 1\n",
    "    elif ((i >=1959) and (i<1969)):\n",
    "        type_data[str('1959-1969')] = type_data[str('1959-1969')] + 1\n",
    "    elif ((i >=1969) and (i<1979)):\n",
    "        type_data[str('1969-1979')] = type_data[str('1969-1979')] + 1\n",
    "    elif ((i >=1979) and (i<1989)):\n",
    "        type_data[str('1979-1989')] = type_data[str('1979-1989')] + 1\n",
    "    elif ((i >=1989) and (i<1999)):\n",
    "        type_data[str('1989-1999')] = type_data[str('1989-1999')] + 1\n",
    "    elif ((i >=1999) and (i<2009)):\n",
    "        type_data[str('1999-2009')] = type_data[str('1999-2009')] + 1\n",
    "\n",
    "type_data\n",
    "type_data_names = list(type_data.keys())\n",
    "type_data_values = list(type_data.values())\n",
    "plt.title('Histogram of Customer Year of Birth')\n",
    "plt.xlabel('Years')\n",
    "plt.ylabel('Number of Commuters')\n",
    "plt.bar(range(len(type_data)), type_data_values, tick_label = type_data_names)\n",
    "plt.show()"
   ]
  }
 ],
 "metadata": {
  "kernelspec": {
   "display_name": "Python 3 (ipykernel)",
   "language": "python",
   "name": "python3"
  },
  "language_info": {
   "codemirror_mode": {
    "name": "ipython",
    "version": 3
   },
   "file_extension": ".py",
   "mimetype": "text/x-python",
   "name": "python",
   "nbconvert_exporter": "python",
   "pygments_lexer": "ipython3",
   "version": "3.10.6"
  }
 },
 "nbformat": 4,
 "nbformat_minor": 5
}
